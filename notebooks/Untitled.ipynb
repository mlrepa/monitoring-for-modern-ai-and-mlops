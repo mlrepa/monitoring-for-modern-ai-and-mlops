{
 "cells": [
  {
   "cell_type": "code",
   "execution_count": null,
   "id": "03e3a6f9-e4ef-42b9-81a7-dbd4d738831b",
   "metadata": {},
   "outputs": [],
   "source": []
  }
 ],
 "metadata": {
  "kernelspec": {
   "display_name": "ML Monitoring Tutorial",
   "language": "python",
   "name": "ml-monitoring"
  },
  "language_info": {
   "codemirror_mode": {
    "name": "ipython",
    "version": 3
   },
   "file_extension": ".py",
   "mimetype": "text/x-python",
   "name": "python",
   "nbconvert_exporter": "python",
   "pygments_lexer": "ipython3",
   "version": "3.13.4"
  }
 },
 "nbformat": 4,
 "nbformat_minor": 5
}
