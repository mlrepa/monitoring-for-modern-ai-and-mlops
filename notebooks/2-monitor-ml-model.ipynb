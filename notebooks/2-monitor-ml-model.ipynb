{
 "cells": [
  {
   "attachments": {},
   "cell_type": "markdown",
   "metadata": {
    "id": "QgumzOZ5wgec",
    "pycharm": {
     "name": "#%% md\n"
    }
   },
   "source": [
    "# Model Monitoring with Evidently and MLFlow"
   ]
  },
  {
   "cell_type": "code",
   "execution_count": 20,
   "metadata": {},
   "outputs": [
    {
     "name": "stdout",
     "output_type": "stream",
     "text": [
      "/Users/plinphon/HSclasses/M12_MLOps/monitoring-for-modern-ai-and-mlops-plinphon/.venv/bin/pip\n",
      "pip 25.1.1 from /Users/plinphon/HSclasses/M12_MLOps/monitoring-for-modern-ai-and-mlops-plinphon/.venv/lib/python3.13/site-packages/pip (python 3.13)\n",
      "/Users/plinphon/HSclasses/M12_MLOps/monitoring-for-modern-ai-and-mlops-plinphon/.venv/bin/python\n",
      "Requirement already satisfied: evidently in /Users/plinphon/HSclasses/M12_MLOps/monitoring-for-modern-ai-and-mlops-plinphon/.venv/lib/python3.13/site-packages (0.7.8)\n",
      "Requirement already satisfied: plotly<6,>=5.10.0 in /Users/plinphon/HSclasses/M12_MLOps/monitoring-for-modern-ai-and-mlops-plinphon/.venv/lib/python3.13/site-packages (from evidently) (5.24.1)\n",
      "Requirement already satisfied: statsmodels>=0.12.2 in /Users/plinphon/HSclasses/M12_MLOps/monitoring-for-modern-ai-and-mlops-plinphon/.venv/lib/python3.13/site-packages (from evidently) (0.14.4)\n",
      "Requirement already satisfied: scikit-learn>=1.0.1 in /Users/plinphon/HSclasses/M12_MLOps/monitoring-for-modern-ai-and-mlops-plinphon/.venv/lib/python3.13/site-packages (from evidently) (1.6.1)\n",
      "Requirement already satisfied: pandas>=1.3.5 in /Users/plinphon/HSclasses/M12_MLOps/monitoring-for-modern-ai-and-mlops-plinphon/.venv/lib/python3.13/site-packages (from pandas[parquet]>=1.3.5->evidently) (2.2.3)\n",
      "Requirement already satisfied: numpy>=1.22.0 in /Users/plinphon/HSclasses/M12_MLOps/monitoring-for-modern-ai-and-mlops-plinphon/.venv/lib/python3.13/site-packages (from evidently) (2.2.6)\n",
      "Requirement already satisfied: nltk>=3.6.7 in /Users/plinphon/HSclasses/M12_MLOps/monitoring-for-modern-ai-and-mlops-plinphon/.venv/lib/python3.13/site-packages (from evidently) (3.9.1)\n",
      "Requirement already satisfied: scipy>=1.10.0 in /Users/plinphon/HSclasses/M12_MLOps/monitoring-for-modern-ai-and-mlops-plinphon/.venv/lib/python3.13/site-packages (from evidently) (1.15.3)\n",
      "Requirement already satisfied: requests>=2.32.0 in /Users/plinphon/HSclasses/M12_MLOps/monitoring-for-modern-ai-and-mlops-plinphon/.venv/lib/python3.13/site-packages (from evidently) (2.32.3)\n",
      "Requirement already satisfied: PyYAML>=5.4 in /Users/plinphon/HSclasses/M12_MLOps/monitoring-for-modern-ai-and-mlops-plinphon/.venv/lib/python3.13/site-packages (from evidently) (6.0.2)\n",
      "Requirement already satisfied: pydantic>=1.10.16 in /Users/plinphon/HSclasses/M12_MLOps/monitoring-for-modern-ai-and-mlops-plinphon/.venv/lib/python3.13/site-packages (from evidently) (2.11.5)\n",
      "Requirement already satisfied: litestar>=2.8.3 in /Users/plinphon/HSclasses/M12_MLOps/monitoring-for-modern-ai-and-mlops-plinphon/.venv/lib/python3.13/site-packages (from evidently) (2.16.0)\n",
      "Requirement already satisfied: typing-inspect>=0.9.0 in /Users/plinphon/HSclasses/M12_MLOps/monitoring-for-modern-ai-and-mlops-plinphon/.venv/lib/python3.13/site-packages (from evidently) (0.9.0)\n",
      "Requirement already satisfied: uvicorn>=0.22.0 in /Users/plinphon/HSclasses/M12_MLOps/monitoring-for-modern-ai-and-mlops-plinphon/.venv/lib/python3.13/site-packages (from uvicorn[standard]>=0.22.0->evidently) (0.34.2)\n",
      "Requirement already satisfied: watchdog>=3.0.0 in /Users/plinphon/HSclasses/M12_MLOps/monitoring-for-modern-ai-and-mlops-plinphon/.venv/lib/python3.13/site-packages (from evidently) (6.0.0)\n",
      "Requirement already satisfied: typer>=0.3 in /Users/plinphon/HSclasses/M12_MLOps/monitoring-for-modern-ai-and-mlops-plinphon/.venv/lib/python3.13/site-packages (from evidently) (0.15.4)\n",
      "Requirement already satisfied: rich>=13 in /Users/plinphon/HSclasses/M12_MLOps/monitoring-for-modern-ai-and-mlops-plinphon/.venv/lib/python3.13/site-packages (from evidently) (14.0.0)\n",
      "Requirement already satisfied: iterative-telemetry>=0.0.5 in /Users/plinphon/HSclasses/M12_MLOps/monitoring-for-modern-ai-and-mlops-plinphon/.venv/lib/python3.13/site-packages (from evidently) (0.0.10)\n",
      "Requirement already satisfied: dynaconf>=3.2.4 in /Users/plinphon/HSclasses/M12_MLOps/monitoring-for-modern-ai-and-mlops-plinphon/.venv/lib/python3.13/site-packages (from evidently) (3.2.11)\n",
      "Requirement already satisfied: certifi>=2024.7.4 in /Users/plinphon/HSclasses/M12_MLOps/monitoring-for-modern-ai-and-mlops-plinphon/.venv/lib/python3.13/site-packages (from evidently) (2025.4.26)\n",
      "Requirement already satisfied: urllib3>=1.26.19 in /Users/plinphon/HSclasses/M12_MLOps/monitoring-for-modern-ai-and-mlops-plinphon/.venv/lib/python3.13/site-packages (from evidently) (2.4.0)\n",
      "Requirement already satisfied: fsspec>=2024.6.1 in /Users/plinphon/HSclasses/M12_MLOps/monitoring-for-modern-ai-and-mlops-plinphon/.venv/lib/python3.13/site-packages (from evidently) (2025.5.1)\n",
      "Requirement already satisfied: ujson>=5.4.0 in /Users/plinphon/HSclasses/M12_MLOps/monitoring-for-modern-ai-and-mlops-plinphon/.venv/lib/python3.13/site-packages (from evidently) (5.10.0)\n",
      "Requirement already satisfied: deprecation>=2.1.0 in /Users/plinphon/HSclasses/M12_MLOps/monitoring-for-modern-ai-and-mlops-plinphon/.venv/lib/python3.13/site-packages (from evidently) (2.1.0)\n",
      "Requirement already satisfied: uuid6>=2024.7.10 in /Users/plinphon/HSclasses/M12_MLOps/monitoring-for-modern-ai-and-mlops-plinphon/.venv/lib/python3.13/site-packages (from evidently) (2024.7.10)\n",
      "Requirement already satisfied: cryptography>=43.0.1 in /Users/plinphon/HSclasses/M12_MLOps/monitoring-for-modern-ai-and-mlops-plinphon/.venv/lib/python3.13/site-packages (from evidently) (45.0.2)\n",
      "Requirement already satisfied: tenacity>=6.2.0 in /Users/plinphon/HSclasses/M12_MLOps/monitoring-for-modern-ai-and-mlops-plinphon/.venv/lib/python3.13/site-packages (from plotly<6,>=5.10.0->evidently) (9.1.2)\n",
      "Requirement already satisfied: packaging in /Users/plinphon/HSclasses/M12_MLOps/monitoring-for-modern-ai-and-mlops-plinphon/.venv/lib/python3.13/site-packages (from plotly<6,>=5.10.0->evidently) (24.2)\n",
      "Requirement already satisfied: cffi>=1.14 in /Users/plinphon/HSclasses/M12_MLOps/monitoring-for-modern-ai-and-mlops-plinphon/.venv/lib/python3.13/site-packages (from cryptography>=43.0.1->evidently) (1.17.1)\n",
      "Requirement already satisfied: pycparser in /Users/plinphon/HSclasses/M12_MLOps/monitoring-for-modern-ai-and-mlops-plinphon/.venv/lib/python3.13/site-packages (from cffi>=1.14->cryptography>=43.0.1->evidently) (2.22)\n",
      "Requirement already satisfied: appdirs in /Users/plinphon/HSclasses/M12_MLOps/monitoring-for-modern-ai-and-mlops-plinphon/.venv/lib/python3.13/site-packages (from iterative-telemetry>=0.0.5->evidently) (1.4.4)\n",
      "Requirement already satisfied: filelock in /Users/plinphon/HSclasses/M12_MLOps/monitoring-for-modern-ai-and-mlops-plinphon/.venv/lib/python3.13/site-packages (from iterative-telemetry>=0.0.5->evidently) (3.18.0)\n",
      "Requirement already satisfied: distro in /Users/plinphon/HSclasses/M12_MLOps/monitoring-for-modern-ai-and-mlops-plinphon/.venv/lib/python3.13/site-packages (from iterative-telemetry>=0.0.5->evidently) (1.9.0)\n",
      "Requirement already satisfied: anyio>=3 in /Users/plinphon/HSclasses/M12_MLOps/monitoring-for-modern-ai-and-mlops-plinphon/.venv/lib/python3.13/site-packages (from litestar>=2.8.3->evidently) (4.9.0)\n",
      "Requirement already satisfied: click in /Users/plinphon/HSclasses/M12_MLOps/monitoring-for-modern-ai-and-mlops-plinphon/.venv/lib/python3.13/site-packages (from litestar>=2.8.3->evidently) (8.1.8)\n",
      "Requirement already satisfied: httpx>=0.22 in /Users/plinphon/HSclasses/M12_MLOps/monitoring-for-modern-ai-and-mlops-plinphon/.venv/lib/python3.13/site-packages (from litestar>=2.8.3->evidently) (0.28.1)\n",
      "Requirement already satisfied: litestar-htmx>=0.4.0 in /Users/plinphon/HSclasses/M12_MLOps/monitoring-for-modern-ai-and-mlops-plinphon/.venv/lib/python3.13/site-packages (from litestar>=2.8.3->evidently) (0.4.1)\n",
      "Requirement already satisfied: msgspec>=0.18.2 in /Users/plinphon/HSclasses/M12_MLOps/monitoring-for-modern-ai-and-mlops-plinphon/.venv/lib/python3.13/site-packages (from litestar>=2.8.3->evidently) (0.19.0)\n",
      "Requirement already satisfied: multidict>=6.0.2 in /Users/plinphon/HSclasses/M12_MLOps/monitoring-for-modern-ai-and-mlops-plinphon/.venv/lib/python3.13/site-packages (from litestar>=2.8.3->evidently) (6.4.4)\n",
      "Requirement already satisfied: multipart>=1.2.0 in /Users/plinphon/HSclasses/M12_MLOps/monitoring-for-modern-ai-and-mlops-plinphon/.venv/lib/python3.13/site-packages (from litestar>=2.8.3->evidently) (1.2.1)\n",
      "Requirement already satisfied: polyfactory>=2.6.3 in /Users/plinphon/HSclasses/M12_MLOps/monitoring-for-modern-ai-and-mlops-plinphon/.venv/lib/python3.13/site-packages (from litestar>=2.8.3->evidently) (2.21.0)\n",
      "Requirement already satisfied: rich-click in /Users/plinphon/HSclasses/M12_MLOps/monitoring-for-modern-ai-and-mlops-plinphon/.venv/lib/python3.13/site-packages (from litestar>=2.8.3->evidently) (1.8.9)\n",
      "Requirement already satisfied: typing-extensions in /Users/plinphon/HSclasses/M12_MLOps/monitoring-for-modern-ai-and-mlops-plinphon/.venv/lib/python3.13/site-packages (from litestar>=2.8.3->evidently) (4.13.2)\n",
      "Requirement already satisfied: idna>=2.8 in /Users/plinphon/HSclasses/M12_MLOps/monitoring-for-modern-ai-and-mlops-plinphon/.venv/lib/python3.13/site-packages (from anyio>=3->litestar>=2.8.3->evidently) (3.10)\n",
      "Requirement already satisfied: sniffio>=1.1 in /Users/plinphon/HSclasses/M12_MLOps/monitoring-for-modern-ai-and-mlops-plinphon/.venv/lib/python3.13/site-packages (from anyio>=3->litestar>=2.8.3->evidently) (1.3.1)\n",
      "Requirement already satisfied: httpcore==1.* in /Users/plinphon/HSclasses/M12_MLOps/monitoring-for-modern-ai-and-mlops-plinphon/.venv/lib/python3.13/site-packages (from httpx>=0.22->litestar>=2.8.3->evidently) (1.0.9)\n",
      "Requirement already satisfied: h11>=0.16 in /Users/plinphon/HSclasses/M12_MLOps/monitoring-for-modern-ai-and-mlops-plinphon/.venv/lib/python3.13/site-packages (from httpcore==1.*->httpx>=0.22->litestar>=2.8.3->evidently) (0.16.0)\n",
      "Requirement already satisfied: joblib in /Users/plinphon/HSclasses/M12_MLOps/monitoring-for-modern-ai-and-mlops-plinphon/.venv/lib/python3.13/site-packages (from nltk>=3.6.7->evidently) (1.5.1)\n",
      "Requirement already satisfied: regex>=2021.8.3 in /Users/plinphon/HSclasses/M12_MLOps/monitoring-for-modern-ai-and-mlops-plinphon/.venv/lib/python3.13/site-packages (from nltk>=3.6.7->evidently) (2024.11.6)\n",
      "Requirement already satisfied: tqdm in /Users/plinphon/HSclasses/M12_MLOps/monitoring-for-modern-ai-and-mlops-plinphon/.venv/lib/python3.13/site-packages (from nltk>=3.6.7->evidently) (4.67.1)\n",
      "Requirement already satisfied: python-dateutil>=2.8.2 in /Users/plinphon/HSclasses/M12_MLOps/monitoring-for-modern-ai-and-mlops-plinphon/.venv/lib/python3.13/site-packages (from pandas>=1.3.5->pandas[parquet]>=1.3.5->evidently) (2.9.0.post0)\n",
      "Requirement already satisfied: pytz>=2020.1 in /Users/plinphon/HSclasses/M12_MLOps/monitoring-for-modern-ai-and-mlops-plinphon/.venv/lib/python3.13/site-packages (from pandas>=1.3.5->pandas[parquet]>=1.3.5->evidently) (2025.2)\n",
      "Requirement already satisfied: tzdata>=2022.7 in /Users/plinphon/HSclasses/M12_MLOps/monitoring-for-modern-ai-and-mlops-plinphon/.venv/lib/python3.13/site-packages (from pandas>=1.3.5->pandas[parquet]>=1.3.5->evidently) (2025.2)\n",
      "Requirement already satisfied: pyarrow>=10.0.1 in /Users/plinphon/HSclasses/M12_MLOps/monitoring-for-modern-ai-and-mlops-plinphon/.venv/lib/python3.13/site-packages (from pandas[parquet]>=1.3.5->evidently) (19.0.1)\n",
      "Requirement already satisfied: faker>=5.0.0 in /Users/plinphon/HSclasses/M12_MLOps/monitoring-for-modern-ai-and-mlops-plinphon/.venv/lib/python3.13/site-packages (from polyfactory>=2.6.3->litestar>=2.8.3->evidently) (37.3.0)\n",
      "Requirement already satisfied: annotated-types>=0.6.0 in /Users/plinphon/HSclasses/M12_MLOps/monitoring-for-modern-ai-and-mlops-plinphon/.venv/lib/python3.13/site-packages (from pydantic>=1.10.16->evidently) (0.7.0)\n",
      "Requirement already satisfied: pydantic-core==2.33.2 in /Users/plinphon/HSclasses/M12_MLOps/monitoring-for-modern-ai-and-mlops-plinphon/.venv/lib/python3.13/site-packages (from pydantic>=1.10.16->evidently) (2.33.2)\n",
      "Requirement already satisfied: typing-inspection>=0.4.0 in /Users/plinphon/HSclasses/M12_MLOps/monitoring-for-modern-ai-and-mlops-plinphon/.venv/lib/python3.13/site-packages (from pydantic>=1.10.16->evidently) (0.4.1)\n",
      "Requirement already satisfied: six>=1.5 in /Users/plinphon/HSclasses/M12_MLOps/monitoring-for-modern-ai-and-mlops-plinphon/.venv/lib/python3.13/site-packages (from python-dateutil>=2.8.2->pandas>=1.3.5->pandas[parquet]>=1.3.5->evidently) (1.17.0)\n",
      "Requirement already satisfied: charset-normalizer<4,>=2 in /Users/plinphon/HSclasses/M12_MLOps/monitoring-for-modern-ai-and-mlops-plinphon/.venv/lib/python3.13/site-packages (from requests>=2.32.0->evidently) (3.4.2)\n",
      "Requirement already satisfied: markdown-it-py>=2.2.0 in /Users/plinphon/HSclasses/M12_MLOps/monitoring-for-modern-ai-and-mlops-plinphon/.venv/lib/python3.13/site-packages (from rich>=13->evidently) (3.0.0)\n",
      "Requirement already satisfied: pygments<3.0.0,>=2.13.0 in /Users/plinphon/HSclasses/M12_MLOps/monitoring-for-modern-ai-and-mlops-plinphon/.venv/lib/python3.13/site-packages (from rich>=13->evidently) (2.19.1)\n",
      "Requirement already satisfied: mdurl~=0.1 in /Users/plinphon/HSclasses/M12_MLOps/monitoring-for-modern-ai-and-mlops-plinphon/.venv/lib/python3.13/site-packages (from markdown-it-py>=2.2.0->rich>=13->evidently) (0.1.2)\n",
      "Requirement already satisfied: threadpoolctl>=3.1.0 in /Users/plinphon/HSclasses/M12_MLOps/monitoring-for-modern-ai-and-mlops-plinphon/.venv/lib/python3.13/site-packages (from scikit-learn>=1.0.1->evidently) (3.6.0)\n",
      "Requirement already satisfied: patsy>=0.5.6 in /Users/plinphon/HSclasses/M12_MLOps/monitoring-for-modern-ai-and-mlops-plinphon/.venv/lib/python3.13/site-packages (from statsmodels>=0.12.2->evidently) (1.0.1)\n",
      "Requirement already satisfied: shellingham>=1.3.0 in /Users/plinphon/HSclasses/M12_MLOps/monitoring-for-modern-ai-and-mlops-plinphon/.venv/lib/python3.13/site-packages (from typer>=0.3->evidently) (1.5.4)\n",
      "Requirement already satisfied: mypy-extensions>=0.3.0 in /Users/plinphon/HSclasses/M12_MLOps/monitoring-for-modern-ai-and-mlops-plinphon/.venv/lib/python3.13/site-packages (from typing-inspect>=0.9.0->evidently) (1.1.0)\n",
      "Requirement already satisfied: httptools>=0.6.3 in /Users/plinphon/HSclasses/M12_MLOps/monitoring-for-modern-ai-and-mlops-plinphon/.venv/lib/python3.13/site-packages (from uvicorn[standard]>=0.22.0->evidently) (0.6.4)\n",
      "Requirement already satisfied: python-dotenv>=0.13 in /Users/plinphon/HSclasses/M12_MLOps/monitoring-for-modern-ai-and-mlops-plinphon/.venv/lib/python3.13/site-packages (from uvicorn[standard]>=0.22.0->evidently) (1.1.0)\n",
      "Requirement already satisfied: uvloop!=0.15.0,!=0.15.1,>=0.14.0 in /Users/plinphon/HSclasses/M12_MLOps/monitoring-for-modern-ai-and-mlops-plinphon/.venv/lib/python3.13/site-packages (from uvicorn[standard]>=0.22.0->evidently) (0.21.0)\n",
      "Requirement already satisfied: watchfiles>=0.13 in /Users/plinphon/HSclasses/M12_MLOps/monitoring-for-modern-ai-and-mlops-plinphon/.venv/lib/python3.13/site-packages (from uvicorn[standard]>=0.22.0->evidently) (1.0.5)\n",
      "Requirement already satisfied: websockets>=10.4 in /Users/plinphon/HSclasses/M12_MLOps/monitoring-for-modern-ai-and-mlops-plinphon/.venv/lib/python3.13/site-packages (from uvicorn[standard]>=0.22.0->evidently) (15.0.1)\n"
     ]
    }
   ],
   "source": [
    "!which pip\n",
    "!pip --version\n",
    "import sys\n",
    "print(sys.executable)\n",
    "\n",
    "!{sys.executable} -m pip install -U evidently"
   ]
  },
  {
   "cell_type": "code",
   "execution_count": 31,
   "metadata": {},
   "outputs": [
    {
     "name": "stdout",
     "output_type": "stream",
     "text": [
      "['BinaryClassification', 'ColumnType', 'DataDefinition', 'Dataset', 'MulticlassClassification', 'Recsys', 'Regression', 'Report', 'Run', '__all__', '__builtins__', '__cached__', '__doc__', '__file__', '__loader__', '__name__', '__package__', '__path__', '__spec__', '__version__', '_jupyter_nbextension_paths', '_pydantic_compat', '_registry', '_version', 'compare', 'core', 'descriptors', 'errors', 'legacy', 'llm', 'metrics', 'nbextension', 'presets', 'pydantic_utils', 'sdk', 'tests', 'ui', 'version_info']\n"
     ]
    }
   ],
   "source": [
    "import evidently\n",
    "print(dir(evidently))"
   ]
  },
  {
   "cell_type": "code",
   "execution_count": 36,
   "metadata": {
    "id": "rByuPhg7wgei",
    "pycharm": {
     "name": "#%%\n"
    },
    "scrolled": true
   },
   "outputs": [
    {
     "name": "stdout",
     "output_type": "stream",
     "text": [
      "The autoreload extension is already loaded. To reload it, use:\n",
      "  %reload_ext autoreload\n",
      "Requirement already satisfied: evidently in /Users/plinphon/HSclasses/M12_MLOps/monitoring-for-modern-ai-and-mlops-plinphon/.venv/lib/python3.13/site-packages (0.7.8)\n",
      "Requirement already satisfied: plotly<6,>=5.10.0 in /Users/plinphon/HSclasses/M12_MLOps/monitoring-for-modern-ai-and-mlops-plinphon/.venv/lib/python3.13/site-packages (from evidently) (5.24.1)\n",
      "Requirement already satisfied: statsmodels>=0.12.2 in /Users/plinphon/HSclasses/M12_MLOps/monitoring-for-modern-ai-and-mlops-plinphon/.venv/lib/python3.13/site-packages (from evidently) (0.14.4)\n",
      "Requirement already satisfied: scikit-learn>=1.0.1 in /Users/plinphon/HSclasses/M12_MLOps/monitoring-for-modern-ai-and-mlops-plinphon/.venv/lib/python3.13/site-packages (from evidently) (1.6.1)\n",
      "Requirement already satisfied: pandas>=1.3.5 in /Users/plinphon/HSclasses/M12_MLOps/monitoring-for-modern-ai-and-mlops-plinphon/.venv/lib/python3.13/site-packages (from pandas[parquet]>=1.3.5->evidently) (2.2.3)\n",
      "Requirement already satisfied: numpy>=1.22.0 in /Users/plinphon/HSclasses/M12_MLOps/monitoring-for-modern-ai-and-mlops-plinphon/.venv/lib/python3.13/site-packages (from evidently) (2.2.6)\n",
      "Requirement already satisfied: nltk>=3.6.7 in /Users/plinphon/HSclasses/M12_MLOps/monitoring-for-modern-ai-and-mlops-plinphon/.venv/lib/python3.13/site-packages (from evidently) (3.9.1)\n",
      "Requirement already satisfied: scipy>=1.10.0 in /Users/plinphon/HSclasses/M12_MLOps/monitoring-for-modern-ai-and-mlops-plinphon/.venv/lib/python3.13/site-packages (from evidently) (1.15.3)\n",
      "Requirement already satisfied: requests>=2.32.0 in /Users/plinphon/HSclasses/M12_MLOps/monitoring-for-modern-ai-and-mlops-plinphon/.venv/lib/python3.13/site-packages (from evidently) (2.32.3)\n",
      "Requirement already satisfied: PyYAML>=5.4 in /Users/plinphon/HSclasses/M12_MLOps/monitoring-for-modern-ai-and-mlops-plinphon/.venv/lib/python3.13/site-packages (from evidently) (6.0.2)\n",
      "Requirement already satisfied: pydantic>=1.10.16 in /Users/plinphon/HSclasses/M12_MLOps/monitoring-for-modern-ai-and-mlops-plinphon/.venv/lib/python3.13/site-packages (from evidently) (2.11.5)\n",
      "Requirement already satisfied: litestar>=2.8.3 in /Users/plinphon/HSclasses/M12_MLOps/monitoring-for-modern-ai-and-mlops-plinphon/.venv/lib/python3.13/site-packages (from evidently) (2.16.0)\n",
      "Requirement already satisfied: typing-inspect>=0.9.0 in /Users/plinphon/HSclasses/M12_MLOps/monitoring-for-modern-ai-and-mlops-plinphon/.venv/lib/python3.13/site-packages (from evidently) (0.9.0)\n",
      "Requirement already satisfied: uvicorn>=0.22.0 in /Users/plinphon/HSclasses/M12_MLOps/monitoring-for-modern-ai-and-mlops-plinphon/.venv/lib/python3.13/site-packages (from uvicorn[standard]>=0.22.0->evidently) (0.34.2)\n",
      "Requirement already satisfied: watchdog>=3.0.0 in /Users/plinphon/HSclasses/M12_MLOps/monitoring-for-modern-ai-and-mlops-plinphon/.venv/lib/python3.13/site-packages (from evidently) (6.0.0)\n",
      "Requirement already satisfied: typer>=0.3 in /Users/plinphon/HSclasses/M12_MLOps/monitoring-for-modern-ai-and-mlops-plinphon/.venv/lib/python3.13/site-packages (from evidently) (0.15.4)\n",
      "Requirement already satisfied: rich>=13 in /Users/plinphon/HSclasses/M12_MLOps/monitoring-for-modern-ai-and-mlops-plinphon/.venv/lib/python3.13/site-packages (from evidently) (14.0.0)\n",
      "Requirement already satisfied: iterative-telemetry>=0.0.5 in /Users/plinphon/HSclasses/M12_MLOps/monitoring-for-modern-ai-and-mlops-plinphon/.venv/lib/python3.13/site-packages (from evidently) (0.0.10)\n",
      "Requirement already satisfied: dynaconf>=3.2.4 in /Users/plinphon/HSclasses/M12_MLOps/monitoring-for-modern-ai-and-mlops-plinphon/.venv/lib/python3.13/site-packages (from evidently) (3.2.11)\n",
      "Requirement already satisfied: certifi>=2024.7.4 in /Users/plinphon/HSclasses/M12_MLOps/monitoring-for-modern-ai-and-mlops-plinphon/.venv/lib/python3.13/site-packages (from evidently) (2025.4.26)\n",
      "Requirement already satisfied: urllib3>=1.26.19 in /Users/plinphon/HSclasses/M12_MLOps/monitoring-for-modern-ai-and-mlops-plinphon/.venv/lib/python3.13/site-packages (from evidently) (2.4.0)\n",
      "Requirement already satisfied: fsspec>=2024.6.1 in /Users/plinphon/HSclasses/M12_MLOps/monitoring-for-modern-ai-and-mlops-plinphon/.venv/lib/python3.13/site-packages (from evidently) (2025.5.1)\n",
      "Requirement already satisfied: ujson>=5.4.0 in /Users/plinphon/HSclasses/M12_MLOps/monitoring-for-modern-ai-and-mlops-plinphon/.venv/lib/python3.13/site-packages (from evidently) (5.10.0)\n",
      "Requirement already satisfied: deprecation>=2.1.0 in /Users/plinphon/HSclasses/M12_MLOps/monitoring-for-modern-ai-and-mlops-plinphon/.venv/lib/python3.13/site-packages (from evidently) (2.1.0)\n",
      "Requirement already satisfied: uuid6>=2024.7.10 in /Users/plinphon/HSclasses/M12_MLOps/monitoring-for-modern-ai-and-mlops-plinphon/.venv/lib/python3.13/site-packages (from evidently) (2024.7.10)\n",
      "Requirement already satisfied: cryptography>=43.0.1 in /Users/plinphon/HSclasses/M12_MLOps/monitoring-for-modern-ai-and-mlops-plinphon/.venv/lib/python3.13/site-packages (from evidently) (45.0.2)\n",
      "Requirement already satisfied: tenacity>=6.2.0 in /Users/plinphon/HSclasses/M12_MLOps/monitoring-for-modern-ai-and-mlops-plinphon/.venv/lib/python3.13/site-packages (from plotly<6,>=5.10.0->evidently) (9.1.2)\n",
      "Requirement already satisfied: packaging in /Users/plinphon/HSclasses/M12_MLOps/monitoring-for-modern-ai-and-mlops-plinphon/.venv/lib/python3.13/site-packages (from plotly<6,>=5.10.0->evidently) (24.2)\n",
      "Requirement already satisfied: cffi>=1.14 in /Users/plinphon/HSclasses/M12_MLOps/monitoring-for-modern-ai-and-mlops-plinphon/.venv/lib/python3.13/site-packages (from cryptography>=43.0.1->evidently) (1.17.1)\n",
      "Requirement already satisfied: pycparser in /Users/plinphon/HSclasses/M12_MLOps/monitoring-for-modern-ai-and-mlops-plinphon/.venv/lib/python3.13/site-packages (from cffi>=1.14->cryptography>=43.0.1->evidently) (2.22)\n",
      "Requirement already satisfied: appdirs in /Users/plinphon/HSclasses/M12_MLOps/monitoring-for-modern-ai-and-mlops-plinphon/.venv/lib/python3.13/site-packages (from iterative-telemetry>=0.0.5->evidently) (1.4.4)\n",
      "Requirement already satisfied: filelock in /Users/plinphon/HSclasses/M12_MLOps/monitoring-for-modern-ai-and-mlops-plinphon/.venv/lib/python3.13/site-packages (from iterative-telemetry>=0.0.5->evidently) (3.18.0)\n",
      "Requirement already satisfied: distro in /Users/plinphon/HSclasses/M12_MLOps/monitoring-for-modern-ai-and-mlops-plinphon/.venv/lib/python3.13/site-packages (from iterative-telemetry>=0.0.5->evidently) (1.9.0)\n",
      "Requirement already satisfied: anyio>=3 in /Users/plinphon/HSclasses/M12_MLOps/monitoring-for-modern-ai-and-mlops-plinphon/.venv/lib/python3.13/site-packages (from litestar>=2.8.3->evidently) (4.9.0)\n",
      "Requirement already satisfied: click in /Users/plinphon/HSclasses/M12_MLOps/monitoring-for-modern-ai-and-mlops-plinphon/.venv/lib/python3.13/site-packages (from litestar>=2.8.3->evidently) (8.1.8)\n",
      "Requirement already satisfied: httpx>=0.22 in /Users/plinphon/HSclasses/M12_MLOps/monitoring-for-modern-ai-and-mlops-plinphon/.venv/lib/python3.13/site-packages (from litestar>=2.8.3->evidently) (0.28.1)\n",
      "Requirement already satisfied: litestar-htmx>=0.4.0 in /Users/plinphon/HSclasses/M12_MLOps/monitoring-for-modern-ai-and-mlops-plinphon/.venv/lib/python3.13/site-packages (from litestar>=2.8.3->evidently) (0.4.1)\n",
      "Requirement already satisfied: msgspec>=0.18.2 in /Users/plinphon/HSclasses/M12_MLOps/monitoring-for-modern-ai-and-mlops-plinphon/.venv/lib/python3.13/site-packages (from litestar>=2.8.3->evidently) (0.19.0)\n",
      "Requirement already satisfied: multidict>=6.0.2 in /Users/plinphon/HSclasses/M12_MLOps/monitoring-for-modern-ai-and-mlops-plinphon/.venv/lib/python3.13/site-packages (from litestar>=2.8.3->evidently) (6.4.4)\n",
      "Requirement already satisfied: multipart>=1.2.0 in /Users/plinphon/HSclasses/M12_MLOps/monitoring-for-modern-ai-and-mlops-plinphon/.venv/lib/python3.13/site-packages (from litestar>=2.8.3->evidently) (1.2.1)\n",
      "Requirement already satisfied: polyfactory>=2.6.3 in /Users/plinphon/HSclasses/M12_MLOps/monitoring-for-modern-ai-and-mlops-plinphon/.venv/lib/python3.13/site-packages (from litestar>=2.8.3->evidently) (2.21.0)\n",
      "Requirement already satisfied: rich-click in /Users/plinphon/HSclasses/M12_MLOps/monitoring-for-modern-ai-and-mlops-plinphon/.venv/lib/python3.13/site-packages (from litestar>=2.8.3->evidently) (1.8.9)\n",
      "Requirement already satisfied: typing-extensions in /Users/plinphon/HSclasses/M12_MLOps/monitoring-for-modern-ai-and-mlops-plinphon/.venv/lib/python3.13/site-packages (from litestar>=2.8.3->evidently) (4.13.2)\n",
      "Requirement already satisfied: idna>=2.8 in /Users/plinphon/HSclasses/M12_MLOps/monitoring-for-modern-ai-and-mlops-plinphon/.venv/lib/python3.13/site-packages (from anyio>=3->litestar>=2.8.3->evidently) (3.10)\n",
      "Requirement already satisfied: sniffio>=1.1 in /Users/plinphon/HSclasses/M12_MLOps/monitoring-for-modern-ai-and-mlops-plinphon/.venv/lib/python3.13/site-packages (from anyio>=3->litestar>=2.8.3->evidently) (1.3.1)\n",
      "Requirement already satisfied: httpcore==1.* in /Users/plinphon/HSclasses/M12_MLOps/monitoring-for-modern-ai-and-mlops-plinphon/.venv/lib/python3.13/site-packages (from httpx>=0.22->litestar>=2.8.3->evidently) (1.0.9)\n",
      "Requirement already satisfied: h11>=0.16 in /Users/plinphon/HSclasses/M12_MLOps/monitoring-for-modern-ai-and-mlops-plinphon/.venv/lib/python3.13/site-packages (from httpcore==1.*->httpx>=0.22->litestar>=2.8.3->evidently) (0.16.0)\n",
      "Requirement already satisfied: joblib in /Users/plinphon/HSclasses/M12_MLOps/monitoring-for-modern-ai-and-mlops-plinphon/.venv/lib/python3.13/site-packages (from nltk>=3.6.7->evidently) (1.5.1)\n",
      "Requirement already satisfied: regex>=2021.8.3 in /Users/plinphon/HSclasses/M12_MLOps/monitoring-for-modern-ai-and-mlops-plinphon/.venv/lib/python3.13/site-packages (from nltk>=3.6.7->evidently) (2024.11.6)\n",
      "Requirement already satisfied: tqdm in /Users/plinphon/HSclasses/M12_MLOps/monitoring-for-modern-ai-and-mlops-plinphon/.venv/lib/python3.13/site-packages (from nltk>=3.6.7->evidently) (4.67.1)\n",
      "Requirement already satisfied: python-dateutil>=2.8.2 in /Users/plinphon/HSclasses/M12_MLOps/monitoring-for-modern-ai-and-mlops-plinphon/.venv/lib/python3.13/site-packages (from pandas>=1.3.5->pandas[parquet]>=1.3.5->evidently) (2.9.0.post0)\n",
      "Requirement already satisfied: pytz>=2020.1 in /Users/plinphon/HSclasses/M12_MLOps/monitoring-for-modern-ai-and-mlops-plinphon/.venv/lib/python3.13/site-packages (from pandas>=1.3.5->pandas[parquet]>=1.3.5->evidently) (2025.2)\n",
      "Requirement already satisfied: tzdata>=2022.7 in /Users/plinphon/HSclasses/M12_MLOps/monitoring-for-modern-ai-and-mlops-plinphon/.venv/lib/python3.13/site-packages (from pandas>=1.3.5->pandas[parquet]>=1.3.5->evidently) (2025.2)\n",
      "Requirement already satisfied: pyarrow>=10.0.1 in /Users/plinphon/HSclasses/M12_MLOps/monitoring-for-modern-ai-and-mlops-plinphon/.venv/lib/python3.13/site-packages (from pandas[parquet]>=1.3.5->evidently) (19.0.1)\n",
      "Requirement already satisfied: faker>=5.0.0 in /Users/plinphon/HSclasses/M12_MLOps/monitoring-for-modern-ai-and-mlops-plinphon/.venv/lib/python3.13/site-packages (from polyfactory>=2.6.3->litestar>=2.8.3->evidently) (37.3.0)\n",
      "Requirement already satisfied: annotated-types>=0.6.0 in /Users/plinphon/HSclasses/M12_MLOps/monitoring-for-modern-ai-and-mlops-plinphon/.venv/lib/python3.13/site-packages (from pydantic>=1.10.16->evidently) (0.7.0)\n",
      "Requirement already satisfied: pydantic-core==2.33.2 in /Users/plinphon/HSclasses/M12_MLOps/monitoring-for-modern-ai-and-mlops-plinphon/.venv/lib/python3.13/site-packages (from pydantic>=1.10.16->evidently) (2.33.2)\n",
      "Requirement already satisfied: typing-inspection>=0.4.0 in /Users/plinphon/HSclasses/M12_MLOps/monitoring-for-modern-ai-and-mlops-plinphon/.venv/lib/python3.13/site-packages (from pydantic>=1.10.16->evidently) (0.4.1)\n",
      "Requirement already satisfied: six>=1.5 in /Users/plinphon/HSclasses/M12_MLOps/monitoring-for-modern-ai-and-mlops-plinphon/.venv/lib/python3.13/site-packages (from python-dateutil>=2.8.2->pandas>=1.3.5->pandas[parquet]>=1.3.5->evidently) (1.17.0)\n",
      "Requirement already satisfied: charset-normalizer<4,>=2 in /Users/plinphon/HSclasses/M12_MLOps/monitoring-for-modern-ai-and-mlops-plinphon/.venv/lib/python3.13/site-packages (from requests>=2.32.0->evidently) (3.4.2)\n",
      "Requirement already satisfied: markdown-it-py>=2.2.0 in /Users/plinphon/HSclasses/M12_MLOps/monitoring-for-modern-ai-and-mlops-plinphon/.venv/lib/python3.13/site-packages (from rich>=13->evidently) (3.0.0)\n",
      "Requirement already satisfied: pygments<3.0.0,>=2.13.0 in /Users/plinphon/HSclasses/M12_MLOps/monitoring-for-modern-ai-and-mlops-plinphon/.venv/lib/python3.13/site-packages (from rich>=13->evidently) (2.19.1)\n",
      "Requirement already satisfied: mdurl~=0.1 in /Users/plinphon/HSclasses/M12_MLOps/monitoring-for-modern-ai-and-mlops-plinphon/.venv/lib/python3.13/site-packages (from markdown-it-py>=2.2.0->rich>=13->evidently) (0.1.2)\n",
      "Requirement already satisfied: threadpoolctl>=3.1.0 in /Users/plinphon/HSclasses/M12_MLOps/monitoring-for-modern-ai-and-mlops-plinphon/.venv/lib/python3.13/site-packages (from scikit-learn>=1.0.1->evidently) (3.6.0)\n",
      "Requirement already satisfied: patsy>=0.5.6 in /Users/plinphon/HSclasses/M12_MLOps/monitoring-for-modern-ai-and-mlops-plinphon/.venv/lib/python3.13/site-packages (from statsmodels>=0.12.2->evidently) (1.0.1)\n",
      "Requirement already satisfied: shellingham>=1.3.0 in /Users/plinphon/HSclasses/M12_MLOps/monitoring-for-modern-ai-and-mlops-plinphon/.venv/lib/python3.13/site-packages (from typer>=0.3->evidently) (1.5.4)\n",
      "Requirement already satisfied: mypy-extensions>=0.3.0 in /Users/plinphon/HSclasses/M12_MLOps/monitoring-for-modern-ai-and-mlops-plinphon/.venv/lib/python3.13/site-packages (from typing-inspect>=0.9.0->evidently) (1.1.0)\n",
      "Requirement already satisfied: httptools>=0.6.3 in /Users/plinphon/HSclasses/M12_MLOps/monitoring-for-modern-ai-and-mlops-plinphon/.venv/lib/python3.13/site-packages (from uvicorn[standard]>=0.22.0->evidently) (0.6.4)\n",
      "Requirement already satisfied: python-dotenv>=0.13 in /Users/plinphon/HSclasses/M12_MLOps/monitoring-for-modern-ai-and-mlops-plinphon/.venv/lib/python3.13/site-packages (from uvicorn[standard]>=0.22.0->evidently) (1.1.0)\n",
      "Requirement already satisfied: uvloop!=0.15.0,!=0.15.1,>=0.14.0 in /Users/plinphon/HSclasses/M12_MLOps/monitoring-for-modern-ai-and-mlops-plinphon/.venv/lib/python3.13/site-packages (from uvicorn[standard]>=0.22.0->evidently) (0.21.0)\n",
      "Requirement already satisfied: watchfiles>=0.13 in /Users/plinphon/HSclasses/M12_MLOps/monitoring-for-modern-ai-and-mlops-plinphon/.venv/lib/python3.13/site-packages (from uvicorn[standard]>=0.22.0->evidently) (1.0.5)\n",
      "Requirement already satisfied: websockets>=10.4 in /Users/plinphon/HSclasses/M12_MLOps/monitoring-for-modern-ai-and-mlops-plinphon/.venv/lib/python3.13/site-packages (from uvicorn[standard]>=0.22.0->evidently) (15.0.1)\n"
     ]
    },
    {
     "ename": "ImportError",
     "evalue": "cannot import name 'RegressionPredictedVsActualScatter' from 'evidently.metrics.regression' (/Users/plinphon/HSclasses/M12_MLOps/monitoring-for-modern-ai-and-mlops-plinphon/.venv/lib/python3.13/site-packages/evidently/metrics/regression.py)",
     "output_type": "error",
     "traceback": [
      "\u001b[31m---------------------------------------------------------------------------\u001b[39m",
      "\u001b[31mImportError\u001b[39m                               Traceback (most recent call last)",
      "\u001b[36mCell\u001b[39m\u001b[36m \u001b[39m\u001b[32mIn[36]\u001b[39m\u001b[32m, line 16\u001b[39m\n\u001b[32m     14\u001b[39m \u001b[38;5;28;01mfrom\u001b[39;00m\u001b[38;5;250m \u001b[39m\u001b[34;01mevidently\u001b[39;00m\u001b[38;5;250m \u001b[39m\u001b[38;5;28;01mimport\u001b[39;00m DataDefinition\n\u001b[32m     15\u001b[39m \u001b[38;5;28;01mfrom\u001b[39;00m\u001b[38;5;250m \u001b[39m\u001b[34;01mevidently\u001b[39;00m\u001b[38;5;250m \u001b[39m\u001b[38;5;28;01mimport\u001b[39;00m Report\n\u001b[32m---> \u001b[39m\u001b[32m16\u001b[39m \u001b[38;5;28;01mfrom\u001b[39;00m\u001b[38;5;250m \u001b[39m\u001b[34;01mevidently\u001b[39;00m\u001b[34;01m.\u001b[39;00m\u001b[34;01mmetrics\u001b[39;00m\u001b[34;01m.\u001b[39;00m\u001b[34;01mregression\u001b[39;00m\u001b[38;5;250m \u001b[39m\u001b[38;5;28;01mimport\u001b[39;00m (\n\u001b[32m     17\u001b[39m     RegressionQualityMetric,\n\u001b[32m     18\u001b[39m     RegressionPredictedVsActualScatter,\n\u001b[32m     19\u001b[39m     RegressionPredictedVsActualPlot,\n\u001b[32m     20\u001b[39m     RegressionErrorPlot,\n\u001b[32m     21\u001b[39m     RegressionAbsPercentageErrorPlot,\n\u001b[32m     22\u001b[39m     RegressionErrorDistribution,\n\u001b[32m     23\u001b[39m     RegressionErrorNormality,\n\u001b[32m     24\u001b[39m )\n",
      "\u001b[31mImportError\u001b[39m: cannot import name 'RegressionPredictedVsActualScatter' from 'evidently.metrics.regression' (/Users/plinphon/HSclasses/M12_MLOps/monitoring-for-modern-ai-and-mlops-plinphon/.venv/lib/python3.13/site-packages/evidently/metrics/regression.py)"
     ]
    }
   ],
   "source": [
    "%load_ext autoreload\n",
    "%autoreload 2\n",
    "!pip install -U evidently\n",
    "\n",
    "import joblib\n",
    "import pandas as pd\n",
    "import mlflow\n",
    "import mlflow.sklearn\n",
    "from mlflow.tracking import MlflowClient\n",
    "from pathlib import Path\n",
    "from typing import Text, Any, Dict\n",
    "from sklearn import ensemble, model_selection\n",
    "\n",
    "from evidently import DataDefinition\n",
    "from evidently import Report\n",
    "from evidently.metrics.regression import (\n",
    "    RegressionQualityMetric,\n",
    "    RegressionPredictedVsActualScatter,\n",
    "    RegressionPredictedVsActualPlot,\n",
    "    RegressionErrorPlot,\n",
    "    RegressionAbsPercentageErrorPlot,\n",
    "    RegressionErrorDistribution,\n",
    "    RegressionErrorNormality,\n",
    ")\n"
   ]
  },
  {
   "cell_type": "code",
   "execution_count": 4,
   "metadata": {},
   "outputs": [
    {
     "name": "stdout",
     "output_type": "stream",
     "text": [
      "mlflow                             3.1.0\n",
      "mlflow-skinny                      3.1.0\n"
     ]
    }
   ],
   "source": [
    "!pip list | grep mlflow"
   ]
  },
  {
   "cell_type": "code",
   "execution_count": 5,
   "metadata": {
    "id": "HiiUl3p8wgej",
    "pycharm": {
     "name": "#%%\n"
    }
   },
   "outputs": [],
   "source": [
    "import warnings\n",
    "warnings.filterwarnings('ignore')\n",
    "warnings.simplefilter('ignore')"
   ]
  },
  {
   "cell_type": "code",
   "execution_count": 6,
   "metadata": {},
   "outputs": [],
   "source": [
    "# Data \n",
    "DATA_DIR = \"data\"\n",
    "FILENAME = \"raw_data.csv\"\n",
    "REPORTS_DIR = 'reports'\n",
    "\n",
    "# MLFlow\n",
    "MLFLOW_TRACKING_URI = \"http://localhost:5000\""
   ]
  },
  {
   "attachments": {},
   "cell_type": "markdown",
   "metadata": {
    "id": "zw5Tap_Xwgej",
    "pycharm": {
     "name": "#%% md\n"
    }
   },
   "source": [
    "## Load Data"
   ]
  },
  {
   "attachments": {},
   "cell_type": "markdown",
   "metadata": {
    "id": "VqGH1Mr6wgej",
    "pycharm": {
     "name": "#%% md\n"
    }
   },
   "source": [
    "More information about the dataset can be found in UCI machine learning repository: https://archive.ics.uci.edu/ml/datasets/bike+sharing+dataset\n",
    "\n",
    "Acknowledgement: Fanaee-T, Hadi, and Gama, Joao, 'Event labeling combining ensemble detectors and background knowledge', Progress in Artificial Intelligence (2013): pp. 1-15, Springer Berlin Heidelberg"
   ]
  },
  {
   "cell_type": "code",
   "execution_count": 7,
   "metadata": {
    "id": "dKX2YV19wgek",
    "pycharm": {
     "name": "#%%\n"
    }
   },
   "outputs": [
    {
     "data": {
      "text/html": [
       "<div>\n",
       "<style scoped>\n",
       "    .dataframe tbody tr th:only-of-type {\n",
       "        vertical-align: middle;\n",
       "    }\n",
       "\n",
       "    .dataframe tbody tr th {\n",
       "        vertical-align: top;\n",
       "    }\n",
       "\n",
       "    .dataframe thead th {\n",
       "        text-align: right;\n",
       "    }\n",
       "</style>\n",
       "<table border=\"1\" class=\"dataframe\">\n",
       "  <thead>\n",
       "    <tr style=\"text-align: right;\">\n",
       "      <th></th>\n",
       "      <th>instant</th>\n",
       "      <th>season</th>\n",
       "      <th>yr</th>\n",
       "      <th>mnth</th>\n",
       "      <th>hr</th>\n",
       "      <th>holiday</th>\n",
       "      <th>weekday</th>\n",
       "      <th>workingday</th>\n",
       "      <th>weathersit</th>\n",
       "      <th>temp</th>\n",
       "      <th>atemp</th>\n",
       "      <th>hum</th>\n",
       "      <th>windspeed</th>\n",
       "      <th>casual</th>\n",
       "      <th>registered</th>\n",
       "      <th>cnt</th>\n",
       "    </tr>\n",
       "    <tr>\n",
       "      <th>dteday</th>\n",
       "      <th></th>\n",
       "      <th></th>\n",
       "      <th></th>\n",
       "      <th></th>\n",
       "      <th></th>\n",
       "      <th></th>\n",
       "      <th></th>\n",
       "      <th></th>\n",
       "      <th></th>\n",
       "      <th></th>\n",
       "      <th></th>\n",
       "      <th></th>\n",
       "      <th></th>\n",
       "      <th></th>\n",
       "      <th></th>\n",
       "      <th></th>\n",
       "    </tr>\n",
       "  </thead>\n",
       "  <tbody>\n",
       "    <tr>\n",
       "      <th>2011-01-01</th>\n",
       "      <td>1</td>\n",
       "      <td>1</td>\n",
       "      <td>0</td>\n",
       "      <td>1</td>\n",
       "      <td>0</td>\n",
       "      <td>0</td>\n",
       "      <td>6</td>\n",
       "      <td>0</td>\n",
       "      <td>1</td>\n",
       "      <td>0.24</td>\n",
       "      <td>0.2879</td>\n",
       "      <td>0.81</td>\n",
       "      <td>0.0</td>\n",
       "      <td>3</td>\n",
       "      <td>13</td>\n",
       "      <td>16</td>\n",
       "    </tr>\n",
       "    <tr>\n",
       "      <th>2011-01-01</th>\n",
       "      <td>2</td>\n",
       "      <td>1</td>\n",
       "      <td>0</td>\n",
       "      <td>1</td>\n",
       "      <td>1</td>\n",
       "      <td>0</td>\n",
       "      <td>6</td>\n",
       "      <td>0</td>\n",
       "      <td>1</td>\n",
       "      <td>0.22</td>\n",
       "      <td>0.2727</td>\n",
       "      <td>0.80</td>\n",
       "      <td>0.0</td>\n",
       "      <td>8</td>\n",
       "      <td>32</td>\n",
       "      <td>40</td>\n",
       "    </tr>\n",
       "    <tr>\n",
       "      <th>2011-01-01</th>\n",
       "      <td>3</td>\n",
       "      <td>1</td>\n",
       "      <td>0</td>\n",
       "      <td>1</td>\n",
       "      <td>2</td>\n",
       "      <td>0</td>\n",
       "      <td>6</td>\n",
       "      <td>0</td>\n",
       "      <td>1</td>\n",
       "      <td>0.22</td>\n",
       "      <td>0.2727</td>\n",
       "      <td>0.80</td>\n",
       "      <td>0.0</td>\n",
       "      <td>5</td>\n",
       "      <td>27</td>\n",
       "      <td>32</td>\n",
       "    </tr>\n",
       "    <tr>\n",
       "      <th>2011-01-01</th>\n",
       "      <td>4</td>\n",
       "      <td>1</td>\n",
       "      <td>0</td>\n",
       "      <td>1</td>\n",
       "      <td>3</td>\n",
       "      <td>0</td>\n",
       "      <td>6</td>\n",
       "      <td>0</td>\n",
       "      <td>1</td>\n",
       "      <td>0.24</td>\n",
       "      <td>0.2879</td>\n",
       "      <td>0.75</td>\n",
       "      <td>0.0</td>\n",
       "      <td>3</td>\n",
       "      <td>10</td>\n",
       "      <td>13</td>\n",
       "    </tr>\n",
       "    <tr>\n",
       "      <th>2011-01-01</th>\n",
       "      <td>5</td>\n",
       "      <td>1</td>\n",
       "      <td>0</td>\n",
       "      <td>1</td>\n",
       "      <td>4</td>\n",
       "      <td>0</td>\n",
       "      <td>6</td>\n",
       "      <td>0</td>\n",
       "      <td>1</td>\n",
       "      <td>0.24</td>\n",
       "      <td>0.2879</td>\n",
       "      <td>0.75</td>\n",
       "      <td>0.0</td>\n",
       "      <td>0</td>\n",
       "      <td>1</td>\n",
       "      <td>1</td>\n",
       "    </tr>\n",
       "  </tbody>\n",
       "</table>\n",
       "</div>"
      ],
      "text/plain": [
       "            instant  season  yr  mnth  hr  holiday  weekday  workingday  \\\n",
       "dteday                                                                    \n",
       "2011-01-01        1       1   0     1   0        0        6           0   \n",
       "2011-01-01        2       1   0     1   1        0        6           0   \n",
       "2011-01-01        3       1   0     1   2        0        6           0   \n",
       "2011-01-01        4       1   0     1   3        0        6           0   \n",
       "2011-01-01        5       1   0     1   4        0        6           0   \n",
       "\n",
       "            weathersit  temp   atemp   hum  windspeed  casual  registered  cnt  \n",
       "dteday                                                                          \n",
       "2011-01-01           1  0.24  0.2879  0.81        0.0       3          13   16  \n",
       "2011-01-01           1  0.22  0.2727  0.80        0.0       8          32   40  \n",
       "2011-01-01           1  0.22  0.2727  0.80        0.0       5          27   32  \n",
       "2011-01-01           1  0.24  0.2879  0.75        0.0       3          10   13  \n",
       "2011-01-01           1  0.24  0.2879  0.75        0.0       0           1    1  "
      ]
     },
     "execution_count": 7,
     "metadata": {},
     "output_type": "execute_result"
    }
   ],
   "source": [
    "# Download original dataset with: python src/load_data.py \n",
    "raw_data = pd.read_csv(f\"../{DATA_DIR}/{FILENAME}\")\n",
    "\n",
    "# Set datetime index \n",
    "raw_data = raw_data.set_index('dteday')\n",
    "\n",
    "raw_data.head()"
   ]
  },
  {
   "cell_type": "code",
   "execution_count": 8,
   "metadata": {},
   "outputs": [],
   "source": [
    "# Define dates for train data\n",
    "train_dates = ('2011-01-02 00:00:00','2011-03-06 23:00:00')\n",
    "\n",
    "# Define dates for inference batches\n",
    "prediction_batches = [ \n",
    "    ('2011-03-07 00:00:00','2011-03-13 23:00:00'),\n",
    "    ('2011-03-14 00:00:00','2011-03-20 23:00:00'),\n",
    "    ('2011-03-21 00:00:00','2011-03-27 23:00:00'), \n",
    "]"
   ]
  },
  {
   "cell_type": "markdown",
   "metadata": {},
   "source": [
    "## Define column mapping"
   ]
  },
  {
   "cell_type": "code",
   "execution_count": 9,
   "metadata": {},
   "outputs": [
    {
     "ename": "NameError",
     "evalue": "name 'ColumnMapping' is not defined",
     "output_type": "error",
     "traceback": [
      "\u001b[31m---------------------------------------------------------------------------\u001b[39m",
      "\u001b[31mNameError\u001b[39m                                 Traceback (most recent call last)",
      "\u001b[36mCell\u001b[39m\u001b[36m \u001b[39m\u001b[32mIn[9]\u001b[39m\u001b[32m, line 8\u001b[39m\n\u001b[32m      5\u001b[39m categorical_features = [\u001b[33m'\u001b[39m\u001b[33mseason\u001b[39m\u001b[33m'\u001b[39m, \u001b[33m'\u001b[39m\u001b[33mholiday\u001b[39m\u001b[33m'\u001b[39m, \u001b[33m'\u001b[39m\u001b[33mworkingday\u001b[39m\u001b[33m'\u001b[39m, ]\n\u001b[32m      6\u001b[39m FEATURE_COLUMNS = numerical_features + categorical_features\n\u001b[32m----> \u001b[39m\u001b[32m8\u001b[39m column_mapping = \u001b[43mColumnMapping\u001b[49m()\n\u001b[32m      9\u001b[39m column_mapping.target = target\n\u001b[32m     10\u001b[39m column_mapping.prediction = prediction\n",
      "\u001b[31mNameError\u001b[39m: name 'ColumnMapping' is not defined"
     ]
    }
   ],
   "source": [
    "target = 'cnt'\n",
    "prediction = 'prediction'\n",
    "datetime = 'dteday'\n",
    "numerical_features = ['temp', 'atemp', 'hum', 'windspeed', 'mnth', 'hr', 'weekday']\n",
    "categorical_features = ['season', 'holiday', 'workingday', ]\n",
    "FEATURE_COLUMNS = numerical_features + categorical_features\n",
    "\n",
    "column_mapping = ColumnMapping()\n",
    "column_mapping.target = target\n",
    "column_mapping.prediction = prediction\n",
    "column_mapping.datetime = datetime\n",
    "column_mapping.numerical_features = numerical_features\n",
    "column_mapping.categorical_features = categorical_features"
   ]
  },
  {
   "cell_type": "markdown",
   "metadata": {},
   "source": [
    "# Train a Model"
   ]
  },
  {
   "cell_type": "markdown",
   "metadata": {},
   "source": [
    "## Train a model"
   ]
  },
  {
   "cell_type": "code",
   "execution_count": null,
   "metadata": {},
   "outputs": [],
   "source": [
    "sample_data = raw_data.loc['2011-01-01 00:00:00':'2011-01-28 23:00:00'].reset_index()\n",
    "\n",
    "print(sample_data.shape)"
   ]
  },
  {
   "cell_type": "code",
   "execution_count": null,
   "metadata": {},
   "outputs": [],
   "source": [
    "X_train, X_test, y_train, y_test = model_selection.train_test_split(\n",
    "    sample_data[numerical_features + categorical_features],\n",
    "    sample_data[target],\n",
    "    test_size=0.3\n",
    ")\n",
    "\n",
    "regressor = ensemble.RandomForestRegressor(random_state = 0, n_estimators = 50)\n",
    "regressor.fit(X_train, y_train) \n",
    "\n",
    "regressor"
   ]
  },
  {
   "cell_type": "code",
   "execution_count": null,
   "metadata": {},
   "outputs": [],
   "source": [
    "model_path = Path('../models/model.joblib')\n",
    "joblib.dump(regressor, model_path)"
   ]
  },
  {
   "attachments": {},
   "cell_type": "markdown",
   "metadata": {
    "id": "2rJyfTJ3wger",
    "pycharm": {
     "name": "#%% md\n"
    }
   },
   "source": [
    "# Monitor Model"
   ]
  },
  {
   "attachments": {},
   "cell_type": "markdown",
   "metadata": {},
   "source": [
    "## Define the reference dataset"
   ]
  },
  {
   "cell_type": "code",
   "execution_count": null,
   "metadata": {
    "id": "TZKZ_biHwgen",
    "pycharm": {
     "name": "#%%\n"
    }
   },
   "outputs": [],
   "source": [
    "# Define the reference dataset\n",
    "reference_data = raw_data.loc[train_dates[0]:train_dates[1]]\n",
    "reference_data['prediction'] = regressor.predict(reference_data[FEATURE_COLUMNS])\n",
    "reference_data = reference_data.reset_index(drop=True)\n",
    "\n",
    "print(reference_data.shape)"
   ]
  },
  {
   "attachments": {},
   "cell_type": "markdown",
   "metadata": {
    "id": "7eBBRAOTwger",
    "pycharm": {
     "name": "#%% md\n"
    }
   },
   "source": [
    "## Week 1"
   ]
  },
  {
   "cell_type": "code",
   "execution_count": null,
   "metadata": {
    "id": "TqljYICLwger",
    "pycharm": {
     "name": "#%%\n"
    }
   },
   "outputs": [],
   "source": [
    "current_dates = prediction_batches[0]\n",
    "current_data = raw_data.loc[current_dates[0]:current_dates[1]]  \n",
    "\n",
    "print(current_data.shape)\n",
    "# current_data.head()"
   ]
  },
  {
   "cell_type": "code",
   "execution_count": null,
   "metadata": {},
   "outputs": [],
   "source": [
    "current_prediction = regressor.predict(current_data[numerical_features + categorical_features])\n",
    "current_data['prediction'] = current_prediction\n",
    "current_data = current_data.reset_index(drop=True)\n",
    "\n",
    "print(current_data.shape)"
   ]
  },
  {
   "cell_type": "code",
   "execution_count": null,
   "metadata": {
    "id": "LvuPle_Nwges"
   },
   "outputs": [],
   "source": [
    "# Build the Model Monitoring report\n",
    "model_report = Report(metrics=[\n",
    "    RegressionQualityMetric(),\n",
    "    RegressionErrorPlot(),\n",
    "    RegressionErrorDistribution()\n",
    "])\n",
    "model_report.run(\n",
    "    reference_data=reference_data,\n",
    "    current_data=current_data,\n",
    "    column_mapping=column_mapping\n",
    ")\n"
   ]
  },
  {
   "cell_type": "code",
   "execution_count": null,
   "metadata": {
    "scrolled": true
   },
   "outputs": [],
   "source": [
    "model_report.show(mode='inline')"
   ]
  },
  {
   "cell_type": "markdown",
   "metadata": {},
   "source": [
    "### Retrieve Monitoring Metrics"
   ]
  },
  {
   "cell_type": "code",
   "execution_count": null,
   "metadata": {},
   "outputs": [],
   "source": [
    "def get_model_monitoring_metrics(\n",
    "    regression_quality_report: Report\n",
    ") -> Dict:\n",
    "\n",
    "    metrics = {} \n",
    "    report_dict = regression_quality_report.as_dict()\n",
    "    \n",
    "    metrics['me'] = report_dict['metrics'][0]['result']['current']['mean_error']\n",
    "    metrics['mae'] = report_dict['metrics'][0]['result']['current'][\"mean_abs_error\"]\n",
    "    metrics['rmse'] = report_dict['metrics'][0]['result']['current'][\"rmse\"]\n",
    "    metrics['mape'] = report_dict['metrics'][0]['result']['current'][\"mean_abs_perc_error\"]\n",
    "    \n",
    "    return metrics"
   ]
  },
  {
   "cell_type": "code",
   "execution_count": null,
   "metadata": {},
   "outputs": [],
   "source": [
    "\n",
    "model_metrics = get_model_monitoring_metrics(model_report)\n",
    "model_metrics"
   ]
  },
  {
   "attachments": {},
   "cell_type": "markdown",
   "metadata": {
    "id": "SbmG0hvSwges",
    "pycharm": {
     "name": "#%% md\n"
    }
   },
   "source": [
    "## Week 2"
   ]
  },
  {
   "cell_type": "code",
   "execution_count": null,
   "metadata": {},
   "outputs": [],
   "source": [
    "current_dates = prediction_batches[1]\n",
    "current_data = raw_data.loc[current_dates[0]:current_dates[1]]  \n",
    "\n",
    "current_prediction = regressor.predict(current_data[numerical_features + categorical_features])\n",
    "current_data['prediction'] = current_prediction\n",
    "current_data = current_data.reset_index(drop=True)\n",
    "\n",
    "print(current_dates)\n",
    "print(current_data.shape)\n",
    "# current_data.head()"
   ]
  },
  {
   "cell_type": "code",
   "execution_count": null,
   "metadata": {
    "id": "d6tBIZDUwget",
    "pycharm": {
     "name": "#%%\n"
    }
   },
   "outputs": [],
   "source": [
    "# Build the Model Monitoring report\n",
    "model_report = Report(metrics=[\n",
    "    RegressionQualityMetric(),\n",
    "    RegressionErrorPlot(),\n",
    "    RegressionErrorDistribution()\n",
    "])\n",
    "model_report.run(\n",
    "    reference_data=reference_data,\n",
    "    current_data=current_data,\n",
    "    column_mapping=column_mapping\n",
    ")\n",
    "\n",
    "model_metrics = get_model_monitoring_metrics(model_report)\n",
    "model_metrics"
   ]
  },
  {
   "attachments": {},
   "cell_type": "markdown",
   "metadata": {
    "id": "q5lW24Xzwgex",
    "pycharm": {
     "name": "#%% md\n"
    }
   },
   "source": [
    "# Model Quality Evaluation"
   ]
  },
  {
   "cell_type": "code",
   "execution_count": null,
   "metadata": {
    "id": "I_IyYlM0wgey",
    "pycharm": {
     "name": "#%%\n"
    }
   },
   "outputs": [],
   "source": [
    "# Set up MLFlow Client\n",
    "mlflow.set_tracking_uri(MLFLOW_TRACKING_URI)\n",
    "client = MlflowClient()\n",
    "print(f\"Client tracking uri: {client.tracking_uri}\")\n",
    "\n",
    "# Set experiment name\n",
    "mlflow.set_experiment(\"Monitor Model\")"
   ]
  },
  {
   "cell_type": "code",
   "execution_count": null,
   "metadata": {
    "id": "bTHU8eAqwgez",
    "pycharm": {
     "name": "#%%\n"
    },
    "scrolled": true
   },
   "outputs": [],
   "source": [
    "\n",
    "# Run model monitoring for each batch of dates\n",
    "for current_dates in prediction_batches:\n",
    "    \n",
    "    print(f\"Current batch dates: {current_dates}\") \n",
    "\n",
    "    # Start a new Run for the batch\n",
    "    with mlflow.start_run(run_name=current_dates[1]) as run: \n",
    "        \n",
    "        # Show newly created run metadata info\n",
    "        print(\"Experiment id: {}\".format(run.info.experiment_id))\n",
    "        print(\"Run id: {}\".format(run.info.run_id))\n",
    "        print(\"Run name: {}\".format(run.info.run_name))\n",
    "            \n",
    "        # Log parameters\n",
    "        mlflow.log_param(\"begin\", current_dates[0])\n",
    "        mlflow.log_param(\"end\", current_dates[1])\n",
    "        \n",
    "        # Make predictions for the current batch data\n",
    "        current_data = raw_data.loc[current_dates[0]:current_dates[1]]\n",
    "        current_prediction = regressor.predict(current_data[FEATURE_COLUMNS])\n",
    "        current_data['prediction'] = current_prediction\n",
    "        current_data = current_data.reset_index(drop=True)\n",
    "\n",
    "        # Build the Model Monitoring report\n",
    "        model_report = Report(metrics=[\n",
    "            RegressionQualityMetric(),\n",
    "            RegressionErrorPlot(),\n",
    "            RegressionErrorDistribution()\n",
    "        ])\n",
    "        model_report.run(\n",
    "            reference_data=reference_data,\n",
    "            current_data=current_data,\n",
    "            column_mapping=column_mapping\n",
    "        )\n",
    "        \n",
    "        # Log Metrics\n",
    "        model_metrics = get_model_monitoring_metrics(model_report)\n",
    "        mlflow.log_metrics(model_metrics)\n",
    "        \n",
    "        # Log Monitoring Report \n",
    "        monitoring_report_path = f\"../{REPORTS_DIR}/model_monitoring_report.html\"\n",
    "        model_report.save_html(monitoring_report_path)\n",
    "        mlflow.log_artifact(monitoring_report_path)\n",
    "        \n",
    "        print(run.info)"
   ]
  },
  {
   "cell_type": "code",
   "execution_count": null,
   "metadata": {
    "scrolled": true
   },
   "outputs": [],
   "source": [
    "model_report.show(mode='inline')"
   ]
  },
  {
   "cell_type": "code",
   "execution_count": null,
   "metadata": {},
   "outputs": [],
   "source": []
  }
 ],
 "metadata": {
  "colab": {
   "provenance": []
  },
  "kernelspec": {
   "display_name": "ML Monitoring Tutorial",
   "language": "python",
   "name": "ml-monitoring"
  },
  "language_info": {
   "codemirror_mode": {
    "name": "ipython",
    "version": 3
   },
   "file_extension": ".py",
   "mimetype": "text/x-python",
   "name": "python",
   "nbconvert_exporter": "python",
   "pygments_lexer": "ipython3",
   "version": "3.13.4"
  },
  "toc": {
   "base_numbering": 1,
   "nav_menu": {},
   "number_sections": true,
   "sideBar": true,
   "skip_h1_title": false,
   "title_cell": "Table of Contents",
   "title_sidebar": "Contents",
   "toc_cell": false,
   "toc_position": {},
   "toc_section_display": true,
   "toc_window_display": false
  }
 },
 "nbformat": 4,
 "nbformat_minor": 4
}
